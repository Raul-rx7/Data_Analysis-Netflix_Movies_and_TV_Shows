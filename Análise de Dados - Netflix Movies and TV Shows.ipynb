{
 "cells": [
  {
   "cell_type": "markdown",
   "metadata": {},
   "source": [
    "# Netflix Movies and TV Shows\n",
    "\n",
    "- type;\n",
    "\n",
    "- title;\n",
    "\n",
    "- director; \n",
    "\n",
    "- cast;\n",
    "\n",
    "- country;\n",
    "\n",
    "- date_added;\n",
    "\n",
    "- release_year;\n",
    "\n",
    "- rating;\n",
    "\n",
    "- duration;\n",
    "\n",
    "- listed_in;\n",
    "\n",
    "- description. \n",
    "\n",
    "Os nomes das colunas são autoexplicativos"
   ]
  },
  {
   "cell_type": "code",
   "execution_count": 1,
   "metadata": {},
   "outputs": [],
   "source": [
    "import pandas as pd, matplotlib.pyplot as plt, seaborn as sns\n",
    "%matplotlib inline"
   ]
  },
  {
   "cell_type": "code",
   "execution_count": 2,
   "metadata": {},
   "outputs": [],
   "source": [
    "data = pd.read_csv('netflix_titles.csv')"
   ]
  },
  {
   "cell_type": "code",
   "execution_count": 3,
   "metadata": {},
   "outputs": [
    {
     "data": {
      "text/html": [
       "<div>\n",
       "<style scoped>\n",
       "    .dataframe tbody tr th:only-of-type {\n",
       "        vertical-align: middle;\n",
       "    }\n",
       "\n",
       "    .dataframe tbody tr th {\n",
       "        vertical-align: top;\n",
       "    }\n",
       "\n",
       "    .dataframe thead th {\n",
       "        text-align: right;\n",
       "    }\n",
       "</style>\n",
       "<table border=\"1\" class=\"dataframe\">\n",
       "  <thead>\n",
       "    <tr style=\"text-align: right;\">\n",
       "      <th></th>\n",
       "      <th>show_id</th>\n",
       "      <th>type</th>\n",
       "      <th>title</th>\n",
       "      <th>director</th>\n",
       "      <th>cast</th>\n",
       "      <th>country</th>\n",
       "      <th>date_added</th>\n",
       "      <th>release_year</th>\n",
       "      <th>rating</th>\n",
       "      <th>duration</th>\n",
       "      <th>listed_in</th>\n",
       "      <th>description</th>\n",
       "    </tr>\n",
       "  </thead>\n",
       "  <tbody>\n",
       "    <tr>\n",
       "      <th>0</th>\n",
       "      <td>s1</td>\n",
       "      <td>TV Show</td>\n",
       "      <td>3%</td>\n",
       "      <td>NaN</td>\n",
       "      <td>João Miguel, Bianca Comparato, Michel Gomes, R...</td>\n",
       "      <td>Brazil</td>\n",
       "      <td>August 14, 2020</td>\n",
       "      <td>2020</td>\n",
       "      <td>TV-MA</td>\n",
       "      <td>4 Seasons</td>\n",
       "      <td>International TV Shows, TV Dramas, TV Sci-Fi &amp;...</td>\n",
       "      <td>In a future where the elite inhabit an island ...</td>\n",
       "    </tr>\n",
       "    <tr>\n",
       "      <th>1</th>\n",
       "      <td>s2</td>\n",
       "      <td>Movie</td>\n",
       "      <td>7:19</td>\n",
       "      <td>Jorge Michel Grau</td>\n",
       "      <td>Demián Bichir, Héctor Bonilla, Oscar Serrano, ...</td>\n",
       "      <td>Mexico</td>\n",
       "      <td>December 23, 2016</td>\n",
       "      <td>2016</td>\n",
       "      <td>TV-MA</td>\n",
       "      <td>93 min</td>\n",
       "      <td>Dramas, International Movies</td>\n",
       "      <td>After a devastating earthquake hits Mexico Cit...</td>\n",
       "    </tr>\n",
       "    <tr>\n",
       "      <th>2</th>\n",
       "      <td>s3</td>\n",
       "      <td>Movie</td>\n",
       "      <td>23:59</td>\n",
       "      <td>Gilbert Chan</td>\n",
       "      <td>Tedd Chan, Stella Chung, Henley Hii, Lawrence ...</td>\n",
       "      <td>Singapore</td>\n",
       "      <td>December 20, 2018</td>\n",
       "      <td>2011</td>\n",
       "      <td>R</td>\n",
       "      <td>78 min</td>\n",
       "      <td>Horror Movies, International Movies</td>\n",
       "      <td>When an army recruit is found dead, his fellow...</td>\n",
       "    </tr>\n",
       "    <tr>\n",
       "      <th>3</th>\n",
       "      <td>s4</td>\n",
       "      <td>Movie</td>\n",
       "      <td>9</td>\n",
       "      <td>Shane Acker</td>\n",
       "      <td>Elijah Wood, John C. Reilly, Jennifer Connelly...</td>\n",
       "      <td>United States</td>\n",
       "      <td>November 16, 2017</td>\n",
       "      <td>2009</td>\n",
       "      <td>PG-13</td>\n",
       "      <td>80 min</td>\n",
       "      <td>Action &amp; Adventure, Independent Movies, Sci-Fi...</td>\n",
       "      <td>In a postapocalyptic world, rag-doll robots hi...</td>\n",
       "    </tr>\n",
       "    <tr>\n",
       "      <th>4</th>\n",
       "      <td>s5</td>\n",
       "      <td>Movie</td>\n",
       "      <td>21</td>\n",
       "      <td>Robert Luketic</td>\n",
       "      <td>Jim Sturgess, Kevin Spacey, Kate Bosworth, Aar...</td>\n",
       "      <td>United States</td>\n",
       "      <td>January 1, 2020</td>\n",
       "      <td>2008</td>\n",
       "      <td>PG-13</td>\n",
       "      <td>123 min</td>\n",
       "      <td>Dramas</td>\n",
       "      <td>A brilliant group of students become card-coun...</td>\n",
       "    </tr>\n",
       "  </tbody>\n",
       "</table>\n",
       "</div>"
      ],
      "text/plain": [
       "  show_id     type  title           director  \\\n",
       "0      s1  TV Show     3%                NaN   \n",
       "1      s2    Movie   7:19  Jorge Michel Grau   \n",
       "2      s3    Movie  23:59       Gilbert Chan   \n",
       "3      s4    Movie      9        Shane Acker   \n",
       "4      s5    Movie     21     Robert Luketic   \n",
       "\n",
       "                                                cast        country  \\\n",
       "0  João Miguel, Bianca Comparato, Michel Gomes, R...         Brazil   \n",
       "1  Demián Bichir, Héctor Bonilla, Oscar Serrano, ...         Mexico   \n",
       "2  Tedd Chan, Stella Chung, Henley Hii, Lawrence ...      Singapore   \n",
       "3  Elijah Wood, John C. Reilly, Jennifer Connelly...  United States   \n",
       "4  Jim Sturgess, Kevin Spacey, Kate Bosworth, Aar...  United States   \n",
       "\n",
       "          date_added  release_year rating   duration  \\\n",
       "0    August 14, 2020          2020  TV-MA  4 Seasons   \n",
       "1  December 23, 2016          2016  TV-MA     93 min   \n",
       "2  December 20, 2018          2011      R     78 min   \n",
       "3  November 16, 2017          2009  PG-13     80 min   \n",
       "4    January 1, 2020          2008  PG-13    123 min   \n",
       "\n",
       "                                           listed_in  \\\n",
       "0  International TV Shows, TV Dramas, TV Sci-Fi &...   \n",
       "1                       Dramas, International Movies   \n",
       "2                Horror Movies, International Movies   \n",
       "3  Action & Adventure, Independent Movies, Sci-Fi...   \n",
       "4                                             Dramas   \n",
       "\n",
       "                                         description  \n",
       "0  In a future where the elite inhabit an island ...  \n",
       "1  After a devastating earthquake hits Mexico Cit...  \n",
       "2  When an army recruit is found dead, his fellow...  \n",
       "3  In a postapocalyptic world, rag-doll robots hi...  \n",
       "4  A brilliant group of students become card-coun...  "
      ]
     },
     "execution_count": 3,
     "metadata": {},
     "output_type": "execute_result"
    }
   ],
   "source": [
    "data.head()"
   ]
  },
  {
   "cell_type": "code",
   "execution_count": 4,
   "metadata": {},
   "outputs": [],
   "source": [
    "# Excluindo a coluna \"show_id\":\n",
    "del data['show_id']"
   ]
  },
  {
   "cell_type": "code",
   "execution_count": 5,
   "metadata": {},
   "outputs": [
    {
     "name": "stdout",
     "output_type": "stream",
     "text": [
      "<class 'pandas.core.frame.DataFrame'>\n",
      "RangeIndex: 7787 entries, 0 to 7786\n",
      "Data columns (total 11 columns):\n",
      " #   Column        Non-Null Count  Dtype \n",
      "---  ------        --------------  ----- \n",
      " 0   type          7787 non-null   object\n",
      " 1   title         7787 non-null   object\n",
      " 2   director      5398 non-null   object\n",
      " 3   cast          7069 non-null   object\n",
      " 4   country       7280 non-null   object\n",
      " 5   date_added    7777 non-null   object\n",
      " 6   release_year  7787 non-null   int64 \n",
      " 7   rating        7780 non-null   object\n",
      " 8   duration      7787 non-null   object\n",
      " 9   listed_in     7787 non-null   object\n",
      " 10  description   7787 non-null   object\n",
      "dtypes: int64(1), object(10)\n",
      "memory usage: 669.3+ KB\n"
     ]
    }
   ],
   "source": [
    "data.info()"
   ]
  },
  {
   "cell_type": "markdown",
   "metadata": {},
   "source": [
    "# Quais são os tipos de obras e a Quantidade de cada? \n",
    "- Tipos de obras listadas e a quantidade de cada\n",
    "\n",
    "    Obs.: Dentro dos tipos há a listagem de gênero, por isso a presença da coluna 'listed_in', e nessas vão desde comédia, drama e documentários até terror, suspense e aventura."
   ]
  },
  {
   "cell_type": "code",
   "execution_count": 6,
   "metadata": {},
   "outputs": [
    {
     "data": {
      "text/plain": [
       "Movie      5377\n",
       "TV Show    2410\n",
       "Name: type, dtype: int64"
      ]
     },
     "execution_count": 6,
     "metadata": {},
     "output_type": "execute_result"
    }
   ],
   "source": [
    "data['type'].value_counts()"
   ]
  },
  {
   "cell_type": "code",
   "execution_count": 7,
   "metadata": {},
   "outputs": [
    {
     "data": {
      "image/png": "[encoded data removed]",
      "text/plain": [
       "<Figure size 432x288 with 1 Axes>"
      ]
     },
     "metadata": {
      "needs_background": "light"
     },
     "output_type": "display_data"
    }
   ],
   "source": [
    "sns.countplot(x='type', data=data, palette='coolwarm');"
   ]
  },
  {
   "cell_type": "markdown",
   "metadata": {},
   "source": [
    "O nome do própio dataset indicado no Kaggle é \"Netflix Movies and TV Shows\", é claro que seria apenas dois tipos, porém agora temos a contagem de cada."
   ]
  },
  {
   "cell_type": "markdown",
   "metadata": {},
   "source": [
    "# Quantidade de Filmes e TV Shows produzidos por ano:"
   ]
  },
  {
   "cell_type": "code",
   "execution_count": 8,
   "metadata": {
    "scrolled": true
   },
   "outputs": [
    {
     "data": {
      "text/plain": [
       "1925       1\n",
       "1942       2\n",
       "1943       3\n",
       "1944       3\n",
       "1945       3\n",
       "        ... \n",
       "2017    1012\n",
       "2018    1121\n",
       "2019     996\n",
       "2020     868\n",
       "2021      31\n",
       "Name: release_year, Length: 73, dtype: int64"
      ]
     },
     "execution_count": 8,
     "metadata": {},
     "output_type": "execute_result"
    }
   ],
   "source": [
    "data['release_year'].value_counts().sort_index()"
   ]
  },
  {
   "cell_type": "code",
   "execution_count": 9,
   "metadata": {},
   "outputs": [
    {
     "data": {
      "image/png": "[encoded data removed]",
      "text/plain": [
       "<Figure size 360x360 with 1 Axes>"
      ]
     },
     "metadata": {
      "needs_background": "light"
     },
     "output_type": "display_data"
    }
   ],
   "source": [
    "sns.displot(data['release_year'], bins=45);"
   ]
  },
  {
   "cell_type": "markdown",
   "metadata": {},
   "source": [
    "É fácil ver o aumento de obras realisadas com o passar do tempo, devido ao grande aumentado da industria do entretenimento."
   ]
  },
  {
   "cell_type": "markdown",
   "metadata": {},
   "source": [
    "# Filmes e séries produzidas apenas no Brasil:\n",
    "\n",
    "- Algumas produções não são realizadas totalmente no Brasil, podemos ver o exemplo do longa Cidade de Deus (City  of God)"
   ]
  },
  {
   "cell_type": "code",
   "execution_count": 10,
   "metadata": {
    "scrolled": false
   },
   "outputs": [
    {
     "data": {
      "text/html": [
       "<div>\n",
       "<style scoped>\n",
       "    .dataframe tbody tr th:only-of-type {\n",
       "        vertical-align: middle;\n",
       "    }\n",
       "\n",
       "    .dataframe tbody tr th {\n",
       "        vertical-align: top;\n",
       "    }\n",
       "\n",
       "    .dataframe thead th {\n",
       "        text-align: right;\n",
       "    }\n",
       "</style>\n",
       "<table border=\"1\" class=\"dataframe\">\n",
       "  <thead>\n",
       "    <tr style=\"text-align: right;\">\n",
       "      <th></th>\n",
       "      <th>type</th>\n",
       "      <th>title</th>\n",
       "      <th>director</th>\n",
       "      <th>cast</th>\n",
       "      <th>country</th>\n",
       "      <th>date_added</th>\n",
       "      <th>release_year</th>\n",
       "      <th>rating</th>\n",
       "      <th>duration</th>\n",
       "      <th>listed_in</th>\n",
       "      <th>description</th>\n",
       "    </tr>\n",
       "  </thead>\n",
       "  <tbody>\n",
       "    <tr>\n",
       "      <th>0</th>\n",
       "      <td>TV Show</td>\n",
       "      <td>3%</td>\n",
       "      <td>NaN</td>\n",
       "      <td>João Miguel, Bianca Comparato, Michel Gomes, R...</td>\n",
       "      <td>Brazil</td>\n",
       "      <td>August 14, 2020</td>\n",
       "      <td>2020</td>\n",
       "      <td>TV-MA</td>\n",
       "      <td>4 Seasons</td>\n",
       "      <td>International TV Shows, TV Dramas, TV Sci-Fi &amp;...</td>\n",
       "      <td>In a future where the elite inhabit an island ...</td>\n",
       "    </tr>\n",
       "    <tr>\n",
       "      <th>208</th>\n",
       "      <td>Movie</td>\n",
       "      <td>A new Capitalism</td>\n",
       "      <td>NaN</td>\n",
       "      <td>NaN</td>\n",
       "      <td>Brazil</td>\n",
       "      <td>June 12, 2018</td>\n",
       "      <td>2017</td>\n",
       "      <td>TV-14</td>\n",
       "      <td>76 min</td>\n",
       "      <td>Documentaries, International Movies</td>\n",
       "      <td>Entrepreneurs worldwide explore alternatives t...</td>\n",
       "    </tr>\n",
       "    <tr>\n",
       "      <th>218</th>\n",
       "      <td>TV Show</td>\n",
       "      <td>A Queen Is Born</td>\n",
       "      <td>Carla Barros</td>\n",
       "      <td>Gloria Groove, Alexia Twister</td>\n",
       "      <td>Brazil</td>\n",
       "      <td>November 11, 2020</td>\n",
       "      <td>2020</td>\n",
       "      <td>TV-14</td>\n",
       "      <td>1 Season</td>\n",
       "      <td>International TV Shows, Reality TV</td>\n",
       "      <td>Gloria Groove and Alexia Twister make drag dre...</td>\n",
       "    </tr>\n",
       "    <tr>\n",
       "      <th>320</th>\n",
       "      <td>Movie</td>\n",
       "      <td>Afonso Padilha: Classless</td>\n",
       "      <td>Junior Carelli, Rudge Campos</td>\n",
       "      <td>Afonso Padilha</td>\n",
       "      <td>Brazil</td>\n",
       "      <td>September 3, 2020</td>\n",
       "      <td>2020</td>\n",
       "      <td>TV-MA</td>\n",
       "      <td>63 min</td>\n",
       "      <td>Stand-Up Comedy</td>\n",
       "      <td>Brazilian comedian Afonso Padilha dives into h...</td>\n",
       "    </tr>\n",
       "    <tr>\n",
       "      <th>322</th>\n",
       "      <td>TV Show</td>\n",
       "      <td>Afronta! Facing It!</td>\n",
       "      <td>Juliana Vicente</td>\n",
       "      <td>Loo Nascimento, Ingrid Silva, Rincon Sapiência...</td>\n",
       "      <td>Brazil</td>\n",
       "      <td>October 31, 2020</td>\n",
       "      <td>2017</td>\n",
       "      <td>TV-PG</td>\n",
       "      <td>1 Season</td>\n",
       "      <td>Docuseries, International TV Shows</td>\n",
       "      <td>This docuseries spotlights Afro-Brazilian thin...</td>\n",
       "    </tr>\n",
       "  </tbody>\n",
       "</table>\n",
       "</div>"
      ],
      "text/plain": [
       "        type                      title                      director  \\\n",
       "0    TV Show                         3%                           NaN   \n",
       "208    Movie           A new Capitalism                           NaN   \n",
       "218  TV Show            A Queen Is Born                  Carla Barros   \n",
       "320    Movie  Afonso Padilha: Classless  Junior Carelli, Rudge Campos   \n",
       "322  TV Show        Afronta! Facing It!               Juliana Vicente   \n",
       "\n",
       "                                                  cast country  \\\n",
       "0    João Miguel, Bianca Comparato, Michel Gomes, R...  Brazil   \n",
       "208                                                NaN  Brazil   \n",
       "218                      Gloria Groove, Alexia Twister  Brazil   \n",
       "320                                     Afonso Padilha  Brazil   \n",
       "322  Loo Nascimento, Ingrid Silva, Rincon Sapiência...  Brazil   \n",
       "\n",
       "            date_added  release_year rating   duration  \\\n",
       "0      August 14, 2020          2020  TV-MA  4 Seasons   \n",
       "208      June 12, 2018          2017  TV-14     76 min   \n",
       "218  November 11, 2020          2020  TV-14   1 Season   \n",
       "320  September 3, 2020          2020  TV-MA     63 min   \n",
       "322   October 31, 2020          2017  TV-PG   1 Season   \n",
       "\n",
       "                                             listed_in  \\\n",
       "0    International TV Shows, TV Dramas, TV Sci-Fi &...   \n",
       "208                Documentaries, International Movies   \n",
       "218                 International TV Shows, Reality TV   \n",
       "320                                    Stand-Up Comedy   \n",
       "322                 Docuseries, International TV Shows   \n",
       "\n",
       "                                           description  \n",
       "0    In a future where the elite inhabit an island ...  \n",
       "208  Entrepreneurs worldwide explore alternatives t...  \n",
       "218  Gloria Groove and Alexia Twister make drag dre...  \n",
       "320  Brazilian comedian Afonso Padilha dives into h...  \n",
       "322  This docuseries spotlights Afro-Brazilian thin...  "
      ]
     },
     "execution_count": 10,
     "metadata": {},
     "output_type": "execute_result"
    }
   ],
   "source": [
    "# Cinco produções totalmente Brasileiras: \n",
    "data[data['country']=='Brazil'].head()"
   ]
  },
  {
   "cell_type": "code",
   "execution_count": 11,
   "metadata": {},
   "outputs": [
    {
     "data": {
      "text/html": [
       "<div>\n",
       "<style scoped>\n",
       "    .dataframe tbody tr th:only-of-type {\n",
       "        vertical-align: middle;\n",
       "    }\n",
       "\n",
       "    .dataframe tbody tr th {\n",
       "        vertical-align: top;\n",
       "    }\n",
       "\n",
       "    .dataframe thead th {\n",
       "        text-align: right;\n",
       "    }\n",
       "</style>\n",
       "<table border=\"1\" class=\"dataframe\">\n",
       "  <thead>\n",
       "    <tr style=\"text-align: right;\">\n",
       "      <th></th>\n",
       "      <th>type</th>\n",
       "      <th>title</th>\n",
       "      <th>director</th>\n",
       "      <th>cast</th>\n",
       "      <th>country</th>\n",
       "      <th>date_added</th>\n",
       "      <th>release_year</th>\n",
       "      <th>rating</th>\n",
       "      <th>duration</th>\n",
       "      <th>listed_in</th>\n",
       "      <th>description</th>\n",
       "    </tr>\n",
       "  </thead>\n",
       "  <tbody>\n",
       "  </tbody>\n",
       "</table>\n",
       "</div>"
      ],
      "text/plain": [
       "Empty DataFrame\n",
       "Columns: [type, title, director, cast, country, date_added, release_year, rating, duration, listed_in, description]\n",
       "Index: []"
      ]
     },
     "execution_count": 11,
     "metadata": {},
     "output_type": "execute_result"
    }
   ],
   "source": [
    "data[(data['country']=='Brazil') & (data['title']=='City of God')]"
   ]
  },
  {
   "cell_type": "markdown",
   "metadata": {},
   "source": [
    "Como observado, não há nenhum 'City of God' produzido apenas no Brasil, porém se puxarmos apenas o título da obra, será possível observar os países em que o mesmo foi produzido: "
   ]
  },
  {
   "cell_type": "code",
   "execution_count": 12,
   "metadata": {},
   "outputs": [
    {
     "data": {
      "text/html": [
       "<div>\n",
       "<style scoped>\n",
       "    .dataframe tbody tr th:only-of-type {\n",
       "        vertical-align: middle;\n",
       "    }\n",
       "\n",
       "    .dataframe tbody tr th {\n",
       "        vertical-align: top;\n",
       "    }\n",
       "\n",
       "    .dataframe thead th {\n",
       "        text-align: right;\n",
       "    }\n",
       "</style>\n",
       "<table border=\"1\" class=\"dataframe\">\n",
       "  <thead>\n",
       "    <tr style=\"text-align: right;\">\n",
       "      <th></th>\n",
       "      <th>type</th>\n",
       "      <th>title</th>\n",
       "      <th>director</th>\n",
       "      <th>cast</th>\n",
       "      <th>country</th>\n",
       "      <th>date_added</th>\n",
       "      <th>release_year</th>\n",
       "      <th>rating</th>\n",
       "      <th>duration</th>\n",
       "      <th>listed_in</th>\n",
       "      <th>description</th>\n",
       "    </tr>\n",
       "  </thead>\n",
       "  <tbody>\n",
       "    <tr>\n",
       "      <th>1400</th>\n",
       "      <td>Movie</td>\n",
       "      <td>City of God</td>\n",
       "      <td>Fernando Meirelles, Katia Lund</td>\n",
       "      <td>Alexandre Rodrigues, Leandro Firmino, Phellipe...</td>\n",
       "      <td>Brazil, France, Germany</td>\n",
       "      <td>January 1, 2020</td>\n",
       "      <td>2002</td>\n",
       "      <td>R</td>\n",
       "      <td>130 min</td>\n",
       "      <td>Dramas, Independent Movies, International Movies</td>\n",
       "      <td>Growing up in a Rio de Janeiro slum, Rocket is...</td>\n",
       "    </tr>\n",
       "  </tbody>\n",
       "</table>\n",
       "</div>"
      ],
      "text/plain": [
       "       type        title                        director  \\\n",
       "1400  Movie  City of God  Fernando Meirelles, Katia Lund   \n",
       "\n",
       "                                                   cast  \\\n",
       "1400  Alexandre Rodrigues, Leandro Firmino, Phellipe...   \n",
       "\n",
       "                      country       date_added  release_year rating duration  \\\n",
       "1400  Brazil, France, Germany  January 1, 2020          2002      R  130 min   \n",
       "\n",
       "                                             listed_in  \\\n",
       "1400  Dramas, Independent Movies, International Movies   \n",
       "\n",
       "                                            description  \n",
       "1400  Growing up in a Rio de Janeiro slum, Rocket is...  "
      ]
     },
     "execution_count": 12,
     "metadata": {},
     "output_type": "execute_result"
    }
   ],
   "source": [
    "data[data['title']=='City of God']"
   ]
  },
  {
   "cell_type": "markdown",
   "metadata": {},
   "source": [
    "Sabemos que as filmagens foram realizadas no Brasil, porém o restante da produção foi realizada na França e Alemanhã."
   ]
  },
  {
   "cell_type": "markdown",
   "metadata": {},
   "source": [
    "# Ranking dos 10 países que mais produzem"
   ]
  },
  {
   "cell_type": "code",
   "execution_count": 13,
   "metadata": {
    "scrolled": true
   },
   "outputs": [
    {
     "data": {
      "text/plain": [
       "United States                                                         2555\n",
       "India                                                                  923\n",
       "United Kingdom                                                         397\n",
       "Japan                                                                  226\n",
       "South Korea                                                            183\n",
       "                                                                      ... \n",
       "United States, Canada, Japan, Panama                                     1\n",
       "Netherlands, Germany, Italy, Canada                                      1\n",
       "Jordan                                                                   1\n",
       "Spain, Belgium                                                           1\n",
       "United States, Canada, Indonesia, United Kingdom, China, Singapore       1\n",
       "Name: country, Length: 681, dtype: int64"
      ]
     },
     "execution_count": 13,
     "metadata": {},
     "output_type": "execute_result"
    }
   ],
   "source": [
    "data['country'].value_counts()"
   ]
  },
  {
   "cell_type": "markdown",
   "metadata": {},
   "source": [
    "# Listados\n",
    "Podemos observar que cada obra está listado em uma categoria, como indicado na coluna \"listed_in\".\n",
    "\n",
    "- Segue abaixo a quantidade de séries e filmes de acordo listados por categorias:"
   ]
  },
  {
   "cell_type": "code",
   "execution_count": 14,
   "metadata": {},
   "outputs": [
    {
     "data": {
      "text/plain": [
       "Filmes LGBTQ                 90\n",
       "Filmes Comédia             1996\n",
       "Filmes Drama               2810\n",
       "Filmes Documentários        786\n",
       "Filmes Independentes        673\n",
       "Filmes Internacionais      2437\n",
       "Séries Documentadas         353\n",
       "TV Shows Dramáticos         704\n",
       "TV Shows Internacionais    1199\n",
       "Reality Shows               222\n",
       "Séries de Anime             148\n",
       "TV Show Misterioso           90\n",
       "Name: QUANTIDADE DE FILMES E TV SHOWS POR CATEGORIA, dtype: int64"
      ]
     },
     "execution_count": 14,
     "metadata": {},
     "output_type": "execute_result"
    }
   ],
   "source": [
    "# Quantidade de alguns filmes por categoria:\n",
    "n_lgbtq_m = data.listed_in.map(lambda listed: 'LGBTQ Movies' in listed).sum()\n",
    "n_comedies_m = data.listed_in.map(lambda listed: 'Comedies' in listed).sum()\n",
    "n_dramas_m = data.listed_in.map(lambda listed: 'Dramas' in listed).sum()\n",
    "n_documentaries = data.listed_in.map(lambda listed: 'Documentaries' in listed).sum() \n",
    "n_ind_m = data.listed_in.map(lambda listed: 'Independent Movies' in listed).sum()\n",
    "n_int_m = data.listed_in.map(lambda listed: 'International Movies' in listed).sum()\n",
    "\n",
    "# Quantidade de algumas séries por categoria:\n",
    "n_doc_s = data.listed_in.map(lambda listed: 'Docuseries' in listed).sum()\n",
    "n_drama_s = data.listed_in.map(lambda listed: 'TV Dramas' in listed).sum()\n",
    "n_inter_s = data.listed_in.map(lambda listed: 'International TV Shows' in listed).sum()\n",
    "n_reality_s = data.listed_in.map(lambda listed: 'Reality TV' in listed).sum()\n",
    "n_anime_s = data.listed_in.map(lambda listed: 'Anime Series' in listed).sum()\n",
    "n_mysteries_s = data.listed_in.map(lambda listed: 'TV Mysteries' in listed).sum()\n",
    "\n",
    "\n",
    "desc_count = pd.Series([n_lgbtq_m, n_comedies_m, n_dramas_m, n_documentaries, n_ind_m, n_int_m, n_doc_s, n_drama_s\n",
    "                       , n_inter_s, n_reality_s, n_anime_s, n_mysteries_s], \n",
    "                       index=['Filmes LGBTQ', 'Filmes Comédia',\n",
    "                              'Filmes Drama', 'Filmes Documentários', 'Filmes Independentes', 'Filmes Internacionais',\n",
    "                              'Séries Documentadas', 'TV Shows Dramáticos', 'TV Shows Internacionais',\n",
    "                             'Reality Shows', 'Séries de Anime', 'TV Show Misterioso'], \n",
    "                       name='QUANTIDADE DE FILMES E TV SHOWS POR CATEGORIA')\n",
    "desc_count"
   ]
  },
  {
   "cell_type": "markdown",
   "metadata": {},
   "source": [
    "# Encontrando palavras na descrição (\"description\"):"
   ]
  },
  {
   "cell_type": "code",
   "execution_count": 15,
   "metadata": {},
   "outputs": [
    {
     "data": {
      "text/plain": [
       "\"war\"          356\n",
       "\"crime\"        191\n",
       "\"Brazilian\"     16\n",
       "\"dead\"         118\n",
       "Name: QUANTIDADE DE PALAVRAS NA DESCRIÇÃO, dtype: int64"
      ]
     },
     "execution_count": 15,
     "metadata": {},
     "output_type": "execute_result"
    }
   ],
   "source": [
    "war = data.description.map(lambda desc: 'war' in desc).sum()\n",
    "crime = data.description.map(lambda desc: 'crime' in desc).sum()\n",
    "braza = data.description.map(lambda desc: 'Brazilian' in desc).sum()\n",
    "dead = data.description.map(lambda desc: 'dead' in desc).sum()\n",
    "\n",
    "desc = pd.Series([war, crime, braza, dead], index=['\"war\"', '\"crime\"',\n",
    "                                                   '\"Brazilian\"', '\"dead\"'],\n",
    "                name = 'QUANTIDADE DE PALAVRAS NA DESCRIÇÃO')\n",
    "desc"
   ]
  },
  {
   "cell_type": "markdown",
   "metadata": {},
   "source": [
    "Aglumas informações foram retiradas do Dataset neste Notebook. \n",
    "\n",
    "O conteúdo do Dataset é bastante denso, tendo em vista que praticamente todo o catálogo está contido nele, sendo então uma boa fonte para visualizar e tratar dados. O catálogo sofre modificações quase que rotineiramente, portanto é preciso levar em conta a desatualização do Dataset utilizado. \n",
    "\n",
    "Os simples passos acima são apenas alguns de muitos para dar início a uma análise mais completa. "
   ]
  },
  {
   "cell_type": "code",
   "execution_count": null,
   "metadata": {},
   "outputs": [],
   "source": []
  }
 ],
 "metadata": {
  "kernelspec": {
   "display_name": "Python 3",
   "language": "python",
   "name": "python3"
  },
  "language_info": {
   "codemirror_mode": {
    "name": "ipython",
    "version": 3
   },
   "file_extension": ".py",
   "mimetype": "text/x-python",
   "name": "python",
   "nbconvert_exporter": "python",
   "pygments_lexer": "ipython3",
   "version": "3.7.3"
  }
 },
 "nbformat": 4,
 "nbformat_minor": 2
}
